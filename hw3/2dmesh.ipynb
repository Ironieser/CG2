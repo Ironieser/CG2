{
 "cells": [
  {
   "cell_type": "code",
   "execution_count": 385,
   "outputs": [
    {
     "name": "stdout",
     "output_type": "stream",
     "text": [
      "[[0. 0.]\n",
      " [1. 0.]\n",
      " [1. 1.]\n",
      " [0. 0.]]\n",
      "[[0. 0.]\n",
      " [0. 1.]\n",
      " [1. 1.]\n",
      " [0. 0.]]\n"
     ]
    },
    {
     "data": {
      "text/plain": "<Figure size 432x288 with 1 Axes>",
      "image/png": "[encoded data removed]"
     },
     "metadata": {
      "needs_background": "light"
     },
     "output_type": "display_data"
    }
   ],
   "source": [
    "from PIL import Image\n",
    "import numpy as np\n",
    "import matplotlib.pyplot as plt\n",
    "from matplotlib.patches import Polygon\n",
    "\n",
    "import matplotlib.image as mpimg\n",
    "original_img  = Image.open(r'./minion/minion.png')\n",
    "zoom = 1\n",
    "original_img = original_img .convert('RGB')\n",
    "original_img = original_img.resize((np.array(original_img .size)*zoom).astype(int))\n",
    "h,w = original_img.size\n",
    "\n",
    "img = np.array(original_img)\n",
    "fig, ax = plt.subplots(1,1)\n",
    "plt.imshow(img)\n",
    "mesh_tri = []\n",
    "points = []\n",
    "points_dic = {}\n",
    "index = 0\n",
    "for i in range(0,h-1,zoom):\n",
    "    for j in range(0,w-1,zoom):\n",
    "        # print(i,j)\n",
    "        # plt.plot(i,j)\n",
    "\n",
    "        if i+1<h and j+1<w:\n",
    "            # mesh_tri.append\n",
    "            points.append([j,i])  # [x,y]\n",
    "            r,g,b= img[int(j),int(i),:]\n",
    "            points_dic[index] = [j,i,r,g,b]\n",
    "            index += 1\n",
    "            mesh_tri.append(Polygon([(i, j), (i + zoom, j), (i + zoom, j + zoom)]))\n",
    "            mesh_tri.append(Polygon([(i, j), (i, j + zoom), (i + zoom, j + zoom)]))\n",
    "        # img[i,j,:] = 0\n",
    "\n",
    "# a = ax.add_patch(mesh)\n",
    "# a.set_fill(False)\n",
    "print(mesh_tri[0].get_xy())\n",
    "print(mesh_tri[1].get_xy())\n",
    "for tri in mesh_tri:\n",
    "    a = ax.add_patch(tri)\n",
    "    a.set_fill(False)\n",
    "# ax = plt.gca()\n",
    "# ax.set_aspect(1)\n",
    "# plt.ylim(0,w)\n",
    "# plt.xlim(0,h)\n",
    "plt.show()\n",
    "# plt.imshow(img)"
   ],
   "metadata": {
    "collapsed": false,
    "pycharm": {
     "name": "#%%\n"
    }
   }
  },
  {
   "cell_type": "code",
   "execution_count": 130,
   "outputs": [],
   "source": [],
   "metadata": {
    "collapsed": false,
    "pycharm": {
     "name": "#%%\n"
    }
   }
  },
  {
   "cell_type": "code",
   "execution_count": 386,
   "outputs": [
    {
     "data": {
      "text/plain": "{0: [0, 0, 255, 255, 255],\n 1: [1, 0, 255, 255, 255],\n 2: [2, 0, 255, 255, 255],\n 3: [3, 0, 255, 255, 255],\n 4: [4, 0, 255, 255, 255],\n 5: [5, 0, 255, 255, 255],\n 6: [6, 0, 255, 255, 255],\n 7: [7, 0, 255, 255, 255],\n 8: [8, 0, 255, 255, 255],\n 9: [9, 0, 255, 255, 255],\n 10: [10, 0, 255, 255, 255],\n 11: [11, 0, 255, 255, 255],\n 12: [12, 0, 255, 255, 255],\n 13: [13, 0, 255, 255, 255],\n 14: [14, 0, 255, 255, 255],\n 15: [15, 0, 255, 255, 255],\n 16: [16, 0, 255, 255, 255],\n 17: [17, 0, 255, 255, 255],\n 18: [18, 0, 255, 255, 255],\n 19: [19, 0, 255, 255, 255],\n 20: [20, 0, 255, 255, 255],\n 21: [0, 1, 255, 255, 255],\n 22: [1, 1, 255, 255, 255],\n 23: [2, 1, 255, 255, 255],\n 24: [3, 1, 255, 255, 255],\n 25: [4, 1, 255, 255, 255],\n 26: [5, 1, 255, 255, 255],\n 27: [6, 1, 255, 255, 255],\n 28: [7, 1, 255, 255, 255],\n 29: [8, 1, 255, 255, 255],\n 30: [9, 1, 255, 255, 255],\n 31: [10, 1, 255, 255, 255],\n 32: [11, 1, 255, 255, 255],\n 33: [12, 1, 255, 255, 255],\n 34: [13, 1, 255, 255, 255],\n 35: [14, 1, 255, 255, 255],\n 36: [15, 1, 255, 255, 255],\n 37: [16, 1, 255, 255, 255],\n 38: [17, 1, 255, 255, 255],\n 39: [18, 1, 255, 255, 255],\n 40: [19, 1, 255, 255, 255],\n 41: [20, 1, 255, 255, 255],\n 42: [0, 2, 255, 255, 255],\n 43: [1, 2, 255, 255, 255],\n 44: [2, 2, 255, 255, 255],\n 45: [3, 2, 255, 255, 255],\n 46: [4, 2, 255, 255, 255],\n 47: [5, 2, 255, 255, 255],\n 48: [6, 2, 255, 255, 255],\n 49: [7, 2, 255, 255, 255],\n 50: [8, 2, 255, 255, 255],\n 51: [9, 2, 255, 255, 255],\n 52: [10, 2, 255, 255, 255],\n 53: [11, 2, 255, 255, 255],\n 54: [12, 2, 255, 255, 255],\n 55: [13, 2, 255, 255, 255],\n 56: [14, 2, 255, 255, 255],\n 57: [15, 2, 255, 255, 255],\n 58: [16, 2, 255, 255, 255],\n 59: [17, 2, 255, 255, 255],\n 60: [18, 2, 255, 255, 255],\n 61: [19, 2, 255, 255, 255],\n 62: [20, 2, 255, 255, 255],\n 63: [0, 3, 255, 255, 255],\n 64: [1, 3, 255, 255, 255],\n 65: [2, 3, 255, 255, 255],\n 66: [3, 3, 255, 255, 255],\n 67: [4, 3, 255, 255, 255],\n 68: [5, 3, 255, 255, 255],\n 69: [6, 3, 255, 255, 255],\n 70: [7, 3, 255, 255, 255],\n 71: [8, 3, 255, 255, 255],\n 72: [9, 3, 255, 255, 255],\n 73: [10, 3, 255, 255, 255],\n 74: [11, 3, 255, 255, 255],\n 75: [12, 3, 255, 255, 255],\n 76: [13, 3, 255, 255, 255],\n 77: [14, 3, 255, 255, 255],\n 78: [15, 3, 255, 255, 255],\n 79: [16, 3, 255, 255, 255],\n 80: [17, 3, 255, 255, 255],\n 81: [18, 3, 255, 255, 255],\n 82: [19, 3, 255, 255, 255],\n 83: [20, 3, 255, 255, 255],\n 84: [0, 4, 255, 255, 255],\n 85: [1, 4, 255, 255, 255],\n 86: [2, 4, 255, 255, 255],\n 87: [3, 4, 255, 255, 255],\n 88: [4, 4, 255, 255, 255],\n 89: [5, 4, 255, 255, 255],\n 90: [6, 4, 255, 255, 255],\n 91: [7, 4, 255, 255, 255],\n 92: [8, 4, 255, 255, 255],\n 93: [9, 4, 255, 255, 255],\n 94: [10, 4, 255, 255, 255],\n 95: [11, 4, 255, 255, 255],\n 96: [12, 4, 255, 255, 255],\n 97: [13, 4, 255, 255, 255],\n 98: [14, 4, 255, 255, 255],\n 99: [15, 4, 255, 255, 255],\n 100: [16, 4, 255, 255, 255],\n 101: [17, 4, 255, 255, 255],\n 102: [18, 4, 255, 255, 255],\n 103: [19, 4, 255, 255, 255],\n 104: [20, 4, 255, 255, 255],\n 105: [0, 5, 255, 255, 255],\n 106: [1, 5, 255, 255, 255],\n 107: [2, 5, 255, 255, 255],\n 108: [3, 5, 255, 255, 255],\n 109: [4, 5, 255, 255, 255],\n 110: [5, 5, 255, 255, 255],\n 111: [6, 5, 255, 255, 255],\n 112: [7, 5, 255, 255, 255],\n 113: [8, 5, 255, 255, 255],\n 114: [9, 5, 255, 255, 255],\n 115: [10, 5, 255, 255, 255],\n 116: [11, 5, 255, 255, 255],\n 117: [12, 5, 255, 255, 255],\n 118: [13, 5, 255, 255, 255],\n 119: [14, 5, 255, 255, 255],\n 120: [15, 5, 255, 255, 255],\n 121: [16, 5, 255, 255, 255],\n 122: [17, 5, 255, 255, 255],\n 123: [18, 5, 255, 255, 255],\n 124: [19, 5, 255, 255, 255],\n 125: [20, 5, 255, 255, 255],\n 126: [0, 6, 255, 255, 255],\n 127: [1, 6, 255, 255, 255],\n 128: [2, 6, 255, 255, 255],\n 129: [3, 6, 255, 255, 255],\n 130: [4, 6, 255, 255, 255],\n 131: [5, 6, 255, 255, 255],\n 132: [6, 6, 255, 255, 255],\n 133: [7, 6, 255, 255, 255],\n 134: [8, 6, 255, 255, 255],\n 135: [9, 6, 255, 255, 255],\n 136: [10, 6, 255, 255, 255],\n 137: [11, 6, 255, 255, 255],\n 138: [12, 6, 255, 255, 255],\n 139: [13, 6, 255, 255, 255],\n 140: [14, 6, 255, 255, 255],\n 141: [15, 6, 255, 255, 255],\n 142: [16, 6, 255, 255, 255],\n 143: [17, 6, 255, 255, 255],\n 144: [18, 6, 255, 255, 255],\n 145: [19, 6, 255, 255, 255],\n 146: [20, 6, 255, 255, 255],\n 147: [0, 7, 255, 255, 255],\n 148: [1, 7, 255, 255, 255],\n 149: [2, 7, 255, 255, 255],\n 150: [3, 7, 255, 255, 255],\n 151: [4, 7, 255, 255, 255],\n 152: [5, 7, 255, 255, 255],\n 153: [6, 7, 255, 255, 255],\n 154: [7, 7, 255, 255, 255],\n 155: [8, 7, 255, 255, 255],\n 156: [9, 7, 255, 255, 255],\n 157: [10, 7, 255, 255, 255],\n 158: [11, 7, 255, 255, 255],\n 159: [12, 7, 255, 255, 255],\n 160: [13, 7, 255, 255, 255],\n 161: [14, 7, 255, 255, 255],\n 162: [15, 7, 255, 255, 255],\n 163: [16, 7, 255, 255, 255],\n 164: [17, 7, 255, 255, 255],\n 165: [18, 7, 255, 255, 255],\n 166: [19, 7, 255, 255, 255],\n 167: [20, 7, 255, 255, 255],\n 168: [0, 8, 255, 255, 255],\n 169: [1, 8, 255, 255, 255],\n 170: [2, 8, 255, 255, 255],\n 171: [3, 8, 255, 255, 255],\n 172: [4, 8, 255, 255, 255],\n 173: [5, 8, 255, 255, 255],\n 174: [6, 8, 255, 255, 255],\n 175: [7, 8, 255, 255, 255],\n 176: [8, 8, 255, 255, 255],\n 177: [9, 8, 255, 255, 255],\n 178: [10, 8, 255, 255, 255],\n 179: [11, 8, 255, 255, 255],\n 180: [12, 8, 255, 255, 255],\n 181: [13, 8, 255, 255, 255],\n 182: [14, 8, 255, 255, 255],\n 183: [15, 8, 255, 255, 255],\n 184: [16, 8, 255, 255, 255],\n 185: [17, 8, 255, 255, 255],\n 186: [18, 8, 255, 255, 255],\n 187: [19, 8, 255, 255, 255],\n 188: [20, 8, 255, 255, 255],\n 189: [0, 9, 255, 255, 255],\n 190: [1, 9, 255, 255, 255],\n 191: [2, 9, 255, 255, 255],\n 192: [3, 9, 255, 255, 255],\n 193: [4, 9, 255, 255, 255],\n 194: [5, 9, 255, 255, 255],\n 195: [6, 9, 255, 255, 255],\n 196: [7, 9, 255, 255, 255],\n 197: [8, 9, 255, 255, 255],\n 198: [9, 9, 255, 255, 255],\n 199: [10, 9, 255, 255, 255],\n 200: [11, 9, 255, 255, 255],\n 201: [12, 9, 255, 255, 255],\n 202: [13, 9, 255, 255, 255],\n 203: [14, 9, 255, 255, 255],\n 204: [15, 9, 255, 255, 255],\n 205: [16, 9, 255, 255, 255],\n 206: [17, 9, 255, 255, 255],\n 207: [18, 9, 255, 255, 255],\n 208: [19, 9, 255, 255, 255],\n 209: [20, 9, 255, 255, 255],\n 210: [0, 10, 255, 255, 255],\n 211: [1, 10, 255, 255, 255],\n 212: [2, 10, 255, 255, 255],\n 213: [3, 10, 255, 255, 255],\n 214: [4, 10, 255, 255, 255],\n 215: [5, 10, 255, 255, 255],\n 216: [6, 10, 255, 255, 255],\n 217: [7, 10, 255, 255, 255],\n 218: [8, 10, 255, 255, 255],\n 219: [9, 10, 255, 255, 255],\n 220: [10, 10, 255, 255, 255],\n 221: [11, 10, 255, 255, 255],\n 222: [12, 10, 255, 255, 255],\n 223: [13, 10, 255, 255, 255],\n 224: [14, 10, 255, 255, 255],\n 225: [15, 10, 255, 255, 255],\n 226: [16, 10, 255, 255, 255],\n 227: [17, 10, 255, 255, 255],\n 228: [18, 10, 255, 255, 255],\n 229: [19, 10, 255, 255, 255],\n 230: [20, 10, 255, 255, 255],\n 231: [0, 11, 255, 255, 255],\n 232: [1, 11, 255, 255, 255],\n 233: [2, 11, 255, 255, 255],\n 234: [3, 11, 255, 255, 255],\n 235: [4, 11, 255, 255, 255],\n 236: [5, 11, 255, 255, 255],\n 237: [6, 11, 255, 255, 255],\n 238: [7, 11, 255, 255, 255],\n 239: [8, 11, 255, 255, 255],\n 240: [9, 11, 255, 255, 255],\n 241: [10, 11, 255, 255, 255],\n 242: [11, 11, 255, 255, 255],\n 243: [12, 11, 255, 255, 255],\n 244: [13, 11, 255, 255, 255],\n 245: [14, 11, 255, 255, 255],\n 246: [15, 11, 255, 255, 255],\n 247: [16, 11, 255, 255, 255],\n 248: [17, 11, 255, 255, 255],\n 249: [18, 11, 255, 255, 255],\n 250: [19, 11, 255, 255, 255],\n 251: [20, 11, 255, 255, 255],\n 252: [0, 12, 255, 255, 255],\n 253: [1, 12, 255, 255, 255],\n 254: [2, 12, 255, 255, 255],\n 255: [3, 12, 255, 255, 255],\n 256: [4, 12, 255, 255, 255],\n 257: [5, 12, 255, 255, 255],\n 258: [6, 12, 255, 255, 255],\n 259: [7, 12, 255, 255, 255],\n 260: [8, 12, 255, 255, 255],\n 261: [9, 12, 255, 255, 255],\n 262: [10, 12, 255, 255, 255],\n 263: [11, 12, 255, 255, 255],\n 264: [12, 12, 255, 255, 255],\n 265: [13, 12, 255, 255, 255],\n 266: [14, 12, 255, 255, 255],\n 267: [15, 12, 255, 255, 255],\n 268: [16, 12, 0, 0, 0],\n 269: [17, 12, 255, 255, 255],\n 270: [18, 12, 255, 255, 255],\n 271: [19, 12, 255, 255, 255],\n 272: [20, 12, 255, 255, 255],\n 273: [0, 13, 255, 255, 255],\n 274: [1, 13, 255, 255, 255],\n 275: [2, 13, 255, 255, 255],\n 276: [3, 13, 255, 242, 0],\n 277: [4, 13, 0, 0, 0],\n 278: [5, 13, 0, 0, 0],\n 279: [6, 13, 255, 242, 0],\n 280: [7, 13, 255, 242, 0],\n 281: [8, 13, 255, 242, 0],\n 282: [9, 13, 255, 242, 0],\n 283: [10, 13, 255, 242, 0],\n 284: [11, 13, 0, 78, 180],\n 285: [12, 13, 255, 242, 0],\n 286: [13, 13, 255, 242, 0],\n 287: [14, 13, 255, 242, 0],\n 288: [15, 13, 255, 242, 0],\n 289: [16, 13, 0, 0, 0],\n 290: [17, 13, 0, 0, 0],\n 291: [18, 13, 255, 255, 255],\n 292: [19, 13, 255, 255, 255],\n 293: [20, 13, 255, 255, 255],\n 294: [0, 14, 255, 255, 255],\n 295: [1, 14, 255, 255, 255],\n 296: [2, 14, 255, 242, 0],\n 297: [3, 14, 255, 242, 0],\n 298: [4, 14, 0, 0, 0],\n 299: [5, 14, 0, 0, 0],\n 300: [6, 14, 255, 242, 0],\n 301: [7, 14, 255, 242, 0],\n 302: [8, 14, 255, 242, 0],\n 303: [9, 14, 255, 242, 0],\n 304: [10, 14, 255, 242, 0],\n 305: [11, 14, 255, 242, 0],\n 306: [12, 14, 0, 78, 180],\n 307: [13, 14, 255, 242, 0],\n 308: [14, 14, 255, 242, 0],\n 309: [15, 14, 0, 78, 180],\n 310: [16, 14, 0, 78, 180],\n 311: [17, 14, 0, 78, 180],\n 312: [18, 14, 255, 255, 255],\n 313: [19, 14, 0, 0, 0],\n 314: [20, 14, 255, 255, 255],\n 315: [0, 15, 255, 255, 255],\n 316: [1, 15, 255, 242, 0],\n 317: [2, 15, 255, 242, 0],\n 318: [3, 15, 255, 242, 0],\n 319: [4, 15, 168, 168, 168],\n 320: [5, 15, 168, 168, 168],\n 321: [6, 15, 255, 242, 0],\n 322: [7, 15, 255, 242, 0],\n 323: [8, 15, 0, 0, 0],\n 324: [9, 15, 255, 242, 0],\n 325: [10, 15, 255, 242, 0],\n 326: [11, 15, 255, 242, 0],\n 327: [12, 15, 0, 78, 180],\n 328: [13, 15, 0, 78, 180],\n 329: [14, 15, 0, 78, 180],\n 330: [15, 15, 0, 78, 180],\n 331: [16, 15, 0, 78, 180],\n 332: [17, 15, 0, 78, 180],\n 333: [18, 15, 0, 0, 0],\n 334: [19, 15, 0, 0, 0],\n 335: [20, 15, 255, 255, 255],\n 336: [0, 16, 255, 255, 255],\n 337: [1, 16, 255, 242, 0],\n 338: [2, 16, 255, 242, 0],\n 339: [3, 16, 168, 168, 168],\n 340: [4, 16, 255, 255, 255],\n 341: [5, 16, 255, 255, 255],\n 342: [6, 16, 168, 168, 168],\n 343: [7, 16, 255, 242, 0],\n 344: [8, 16, 255, 242, 0],\n 345: [9, 16, 0, 0, 0],\n 346: [10, 16, 255, 242, 0],\n 347: [11, 16, 255, 242, 0],\n 348: [12, 16, 0, 78, 180],\n 349: [13, 16, 0, 78, 180],\n 350: [14, 16, 0, 78, 180],\n 351: [15, 16, 0, 78, 180],\n 352: [16, 16, 0, 78, 180],\n 353: [17, 16, 0, 78, 180],\n 354: [18, 16, 0, 0, 0],\n 355: [19, 16, 0, 0, 0],\n 356: [20, 16, 255, 255, 255],\n 357: [0, 17, 255, 255, 255],\n 358: [1, 17, 255, 242, 0],\n 359: [2, 17, 168, 168, 168],\n 360: [3, 17, 255, 255, 255],\n 361: [4, 17, 0, 0, 0],\n 362: [5, 17, 0, 0, 0],\n 363: [6, 17, 255, 255, 255],\n 364: [7, 17, 168, 168, 168],\n 365: [8, 17, 255, 242, 0],\n 366: [9, 17, 0, 0, 0],\n 367: [10, 17, 255, 242, 0],\n 368: [11, 17, 255, 242, 0],\n 369: [12, 17, 0, 78, 180],\n 370: [13, 17, 0, 78, 180],\n 371: [14, 17, 0, 78, 180],\n 372: [15, 17, 0, 78, 180],\n 373: [16, 17, 0, 78, 180],\n 374: [17, 17, 0, 78, 180],\n 375: [18, 17, 255, 255, 255],\n 376: [19, 17, 255, 255, 255],\n 377: [20, 17, 255, 255, 255],\n 378: [0, 18, 255, 255, 255],\n 379: [1, 18, 255, 242, 0],\n 380: [2, 18, 168, 168, 168],\n 381: [3, 18, 255, 255, 255],\n 382: [4, 18, 0, 0, 0],\n 383: [5, 18, 0, 0, 0],\n 384: [6, 18, 255, 255, 255],\n 385: [7, 18, 168, 168, 168],\n 386: [8, 18, 255, 242, 0],\n 387: [9, 18, 0, 0, 0],\n 388: [10, 18, 255, 242, 0],\n 389: [11, 18, 255, 242, 0],\n 390: [12, 18, 0, 78, 180],\n 391: [13, 18, 0, 78, 180],\n 392: [14, 18, 0, 78, 180],\n 393: [15, 18, 0, 78, 180],\n 394: [16, 18, 0, 78, 180],\n 395: [17, 18, 0, 78, 180],\n 396: [18, 18, 255, 255, 255],\n 397: [19, 18, 255, 255, 255],\n 398: [20, 18, 255, 255, 255],\n 399: [0, 19, 255, 255, 255],\n 400: [1, 19, 255, 242, 0],\n 401: [2, 19, 255, 242, 0],\n 402: [3, 19, 168, 168, 168],\n 403: [4, 19, 255, 255, 255],\n 404: [5, 19, 255, 255, 255],\n 405: [6, 19, 168, 168, 168],\n 406: [7, 19, 255, 242, 0],\n 407: [8, 19, 255, 242, 0],\n 408: [9, 19, 0, 0, 0],\n 409: [10, 19, 255, 242, 0],\n 410: [11, 19, 255, 242, 0],\n 411: [12, 19, 0, 78, 180],\n 412: [13, 19, 0, 78, 180],\n 413: [14, 19, 0, 78, 180],\n 414: [15, 19, 0, 78, 180],\n 415: [16, 19, 0, 78, 180],\n 416: [17, 19, 0, 78, 180],\n 417: [18, 19, 0, 0, 0],\n 418: [19, 19, 0, 0, 0],\n 419: [20, 19, 255, 255, 255],\n 420: [0, 20, 255, 255, 255],\n 421: [1, 20, 255, 242, 0],\n 422: [2, 20, 255, 242, 0],\n 423: [3, 20, 255, 242, 0],\n 424: [4, 20, 168, 168, 168],\n 425: [5, 20, 168, 168, 168],\n 426: [6, 20, 255, 242, 0],\n 427: [7, 20, 255, 242, 0],\n 428: [8, 20, 0, 0, 0],\n 429: [9, 20, 255, 242, 0],\n 430: [10, 20, 255, 242, 0],\n 431: [11, 20, 255, 242, 0],\n 432: [12, 20, 0, 78, 180],\n 433: [13, 20, 0, 78, 180],\n 434: [14, 20, 0, 78, 180],\n 435: [15, 20, 0, 78, 180],\n 436: [16, 20, 0, 78, 180],\n 437: [17, 20, 0, 78, 180],\n 438: [18, 20, 0, 0, 0],\n 439: [19, 20, 0, 0, 0],\n 440: [20, 20, 255, 255, 255],\n 441: [0, 21, 255, 255, 255],\n 442: [1, 21, 255, 255, 255],\n 443: [2, 21, 255, 242, 0],\n 444: [3, 21, 255, 242, 0],\n 445: [4, 21, 0, 0, 0],\n 446: [5, 21, 0, 0, 0],\n 447: [6, 21, 255, 242, 0],\n 448: [7, 21, 255, 242, 0],\n 449: [8, 21, 255, 242, 0],\n 450: [9, 21, 255, 242, 0],\n 451: [10, 21, 255, 242, 0],\n 452: [11, 21, 255, 242, 0],\n 453: [12, 21, 0, 78, 180],\n 454: [13, 21, 255, 242, 0],\n 455: [14, 21, 255, 242, 0],\n 456: [15, 21, 0, 78, 180],\n 457: [16, 21, 0, 78, 180],\n 458: [17, 21, 0, 78, 180],\n 459: [18, 21, 255, 255, 255],\n 460: [19, 21, 0, 0, 0],\n 461: [20, 21, 255, 255, 255],\n 462: [0, 22, 255, 255, 255],\n 463: [1, 22, 255, 255, 255],\n 464: [2, 22, 255, 255, 255],\n 465: [3, 22, 255, 242, 0],\n 466: [4, 22, 0, 0, 0],\n 467: [5, 22, 0, 0, 0],\n 468: [6, 22, 255, 242, 0],\n 469: [7, 22, 255, 242, 0],\n 470: [8, 22, 255, 242, 0],\n 471: [9, 22, 255, 242, 0],\n 472: [10, 22, 255, 242, 0],\n 473: [11, 22, 0, 78, 180],\n 474: [12, 22, 255, 242, 0],\n 475: [13, 22, 255, 242, 0],\n 476: [14, 22, 255, 242, 0],\n 477: [15, 22, 255, 242, 0],\n 478: [16, 22, 0, 0, 0],\n 479: [17, 22, 0, 0, 0],\n 480: [18, 22, 255, 255, 255],\n 481: [19, 22, 255, 255, 255],\n 482: [20, 22, 255, 255, 255],\n 483: [0, 23, 255, 255, 255],\n 484: [1, 23, 255, 255, 255],\n 485: [2, 23, 255, 255, 255],\n 486: [3, 23, 255, 255, 255],\n 487: [4, 23, 255, 255, 255],\n 488: [5, 23, 255, 255, 255],\n 489: [6, 23, 255, 255, 255],\n 490: [7, 23, 255, 255, 255],\n 491: [8, 23, 255, 255, 255],\n 492: [9, 23, 255, 255, 255],\n 493: [10, 23, 255, 255, 255],\n 494: [11, 23, 255, 255, 255],\n 495: [12, 23, 255, 255, 255],\n 496: [13, 23, 255, 255, 255],\n 497: [14, 23, 255, 255, 255],\n 498: [15, 23, 255, 255, 255],\n 499: [16, 23, 0, 0, 0],\n 500: [17, 23, 255, 255, 255],\n 501: [18, 23, 255, 255, 255],\n 502: [19, 23, 255, 255, 255],\n 503: [20, 23, 255, 255, 255],\n 504: [0, 24, 255, 255, 255],\n 505: [1, 24, 255, 255, 255],\n 506: [2, 24, 255, 255, 255],\n 507: [3, 24, 255, 255, 255],\n 508: [4, 24, 255, 255, 255],\n 509: [5, 24, 255, 255, 255],\n 510: [6, 24, 255, 255, 255],\n 511: [7, 24, 255, 255, 255],\n 512: [8, 24, 255, 255, 255],\n 513: [9, 24, 255, 255, 255],\n 514: [10, 24, 255, 255, 255],\n 515: [11, 24, 255, 255, 255],\n 516: [12, 24, 255, 255, 255],\n 517: [13, 24, 255, 255, 255],\n 518: [14, 24, 255, 255, 255],\n 519: [15, 24, 255, 255, 255],\n 520: [16, 24, 255, 255, 255],\n 521: [17, 24, 255, 255, 255],\n 522: [18, 24, 255, 255, 255],\n 523: [19, 24, 255, 255, 255],\n 524: [20, 24, 255, 255, 255],\n 525: [0, 25, 255, 255, 255],\n 526: [1, 25, 255, 255, 255],\n 527: [2, 25, 255, 255, 255],\n 528: [3, 25, 255, 255, 255],\n 529: [4, 25, 255, 255, 255],\n 530: [5, 25, 255, 255, 255],\n 531: [6, 25, 255, 255, 255],\n 532: [7, 25, 255, 255, 255],\n 533: [8, 25, 255, 255, 255],\n 534: [9, 25, 255, 255, 255],\n 535: [10, 25, 255, 255, 255],\n 536: [11, 25, 255, 255, 255],\n 537: [12, 25, 255, 255, 255],\n 538: [13, 25, 255, 255, 255],\n 539: [14, 25, 255, 255, 255],\n 540: [15, 25, 255, 255, 255],\n 541: [16, 25, 255, 255, 255],\n 542: [17, 25, 255, 255, 255],\n 543: [18, 25, 255, 255, 255],\n 544: [19, 25, 255, 255, 255],\n 545: [20, 25, 255, 255, 255],\n 546: [0, 26, 255, 255, 255],\n 547: [1, 26, 255, 255, 255],\n 548: [2, 26, 255, 255, 255],\n 549: [3, 26, 255, 255, 255],\n 550: [4, 26, 255, 255, 255],\n 551: [5, 26, 255, 255, 255],\n 552: [6, 26, 255, 255, 255],\n 553: [7, 26, 255, 255, 255],\n 554: [8, 26, 255, 255, 255],\n 555: [9, 26, 255, 255, 255],\n 556: [10, 26, 255, 255, 255],\n 557: [11, 26, 255, 255, 255],\n 558: [12, 26, 255, 255, 255],\n 559: [13, 26, 255, 255, 255],\n 560: [14, 26, 255, 255, 255],\n 561: [15, 26, 255, 255, 255],\n 562: [16, 26, 255, 255, 255],\n 563: [17, 26, 255, 255, 255],\n 564: [18, 26, 255, 255, 255],\n 565: [19, 26, 255, 255, 255],\n 566: [20, 26, 255, 255, 255],\n 567: [0, 27, 255, 255, 255],\n 568: [1, 27, 255, 255, 255],\n 569: [2, 27, 255, 255, 255],\n 570: [3, 27, 255, 255, 255],\n 571: [4, 27, 255, 255, 255],\n 572: [5, 27, 255, 255, 255],\n 573: [6, 27, 255, 255, 255],\n 574: [7, 27, 255, 255, 255],\n 575: [8, 27, 255, 255, 255],\n 576: [9, 27, 255, 255, 255],\n 577: [10, 27, 255, 255, 255],\n 578: [11, 27, 255, 255, 255],\n 579: [12, 27, 255, 255, 255],\n 580: [13, 27, 255, 255, 255],\n 581: [14, 27, 255, 255, 255],\n 582: [15, 27, 255, 255, 255],\n 583: [16, 27, 255, 255, 255],\n 584: [17, 27, 255, 255, 255],\n 585: [18, 27, 255, 255, 255],\n 586: [19, 27, 255, 255, 255],\n 587: [20, 27, 255, 255, 255],\n 588: [0, 28, 255, 255, 255],\n 589: [1, 28, 255, 255, 255],\n 590: [2, 28, 255, 255, 255],\n 591: [3, 28, 255, 255, 255],\n 592: [4, 28, 255, 255, 255],\n 593: [5, 28, 255, 255, 255],\n 594: [6, 28, 255, 255, 255],\n 595: [7, 28, 255, 255, 255],\n 596: [8, 28, 255, 255, 255],\n 597: [9, 28, 255, 255, 255],\n 598: [10, 28, 255, 255, 255],\n 599: [11, 28, 255, 255, 255],\n 600: [12, 28, 255, 255, 255],\n 601: [13, 28, 255, 255, 255],\n 602: [14, 28, 255, 255, 255],\n 603: [15, 28, 255, 255, 255],\n 604: [16, 28, 255, 255, 255],\n 605: [17, 28, 255, 255, 255],\n 606: [18, 28, 255, 255, 255],\n 607: [19, 28, 255, 255, 255],\n 608: [20, 28, 255, 255, 255],\n 609: [0, 29, 255, 255, 255],\n 610: [1, 29, 255, 255, 255],\n 611: [2, 29, 255, 255, 255],\n 612: [3, 29, 255, 255, 255],\n 613: [4, 29, 255, 255, 255],\n 614: [5, 29, 255, 255, 255],\n 615: [6, 29, 255, 255, 255],\n 616: [7, 29, 255, 255, 255],\n 617: [8, 29, 255, 255, 255],\n 618: [9, 29, 255, 255, 255],\n 619: [10, 29, 255, 255, 255],\n 620: [11, 29, 255, 255, 255],\n 621: [12, 29, 255, 255, 255],\n 622: [13, 29, 255, 255, 255],\n 623: [14, 29, 255, 255, 255],\n 624: [15, 29, 255, 255, 255],\n 625: [16, 29, 255, 255, 255],\n 626: [17, 29, 255, 255, 255],\n 627: [18, 29, 255, 255, 255],\n 628: [19, 29, 255, 255, 255],\n 629: [20, 29, 255, 255, 255],\n 630: [0, 30, 255, 255, 255],\n 631: [1, 30, 255, 255, 255],\n 632: [2, 30, 255, 255, 255],\n 633: [3, 30, 255, 255, 255],\n 634: [4, 30, 255, 255, 255],\n 635: [5, 30, 255, 255, 255],\n 636: [6, 30, 255, 255, 255],\n 637: [7, 30, 255, 255, 255],\n 638: [8, 30, 255, 255, 255],\n 639: [9, 30, 255, 255, 255],\n 640: [10, 30, 255, 255, 255],\n 641: [11, 30, 255, 255, 255],\n 642: [12, 30, 255, 255, 255],\n 643: [13, 30, 255, 255, 255],\n 644: [14, 30, 255, 255, 255],\n 645: [15, 30, 255, 255, 255],\n 646: [16, 30, 255, 255, 255],\n 647: [17, 30, 255, 255, 255],\n 648: [18, 30, 255, 255, 255],\n 649: [19, 30, 255, 255, 255],\n 650: [20, 30, 255, 255, 255],\n 651: [0, 31, 255, 255, 255],\n 652: [1, 31, 255, 255, 255],\n 653: [2, 31, 255, 255, 255],\n 654: [3, 31, 255, 255, 255],\n 655: [4, 31, 255, 255, 255],\n 656: [5, 31, 255, 255, 255],\n 657: [6, 31, 255, 255, 255],\n 658: [7, 31, 255, 255, 255],\n 659: [8, 31, 255, 255, 255],\n 660: [9, 31, 255, 255, 255],\n 661: [10, 31, 255, 255, 255],\n 662: [11, 31, 255, 255, 255],\n 663: [12, 31, 255, 255, 255],\n 664: [13, 31, 255, 255, 255],\n 665: [14, 31, 255, 255, 255],\n 666: [15, 31, 255, 255, 255],\n 667: [16, 31, 255, 255, 255],\n 668: [17, 31, 255, 255, 255],\n 669: [18, 31, 255, 255, 255],\n 670: [19, 31, 255, 255, 255],\n 671: [20, 31, 255, 255, 255],\n 672: [0, 32, 255, 255, 255],\n 673: [1, 32, 255, 255, 255],\n 674: [2, 32, 255, 255, 255],\n 675: [3, 32, 255, 255, 255],\n 676: [4, 32, 255, 255, 255],\n 677: [5, 32, 255, 255, 255],\n 678: [6, 32, 255, 255, 255],\n 679: [7, 32, 255, 255, 255],\n 680: [8, 32, 255, 255, 255],\n 681: [9, 32, 255, 255, 255],\n 682: [10, 32, 255, 255, 255],\n 683: [11, 32, 255, 255, 255],\n 684: [12, 32, 255, 255, 255],\n 685: [13, 32, 255, 255, 255],\n 686: [14, 32, 255, 255, 255],\n 687: [15, 32, 255, 255, 255],\n 688: [16, 32, 255, 255, 255],\n 689: [17, 32, 255, 255, 255],\n 690: [18, 32, 255, 255, 255],\n 691: [19, 32, 255, 255, 255],\n 692: [20, 32, 255, 255, 255],\n 693: [0, 33, 255, 255, 255],\n 694: [1, 33, 255, 255, 255],\n 695: [2, 33, 255, 255, 255],\n 696: [3, 33, 255, 255, 255],\n 697: [4, 33, 255, 255, 255],\n 698: [5, 33, 255, 255, 255],\n 699: [6, 33, 255, 255, 255],\n 700: [7, 33, 255, 255, 255],\n 701: [8, 33, 255, 255, 255],\n 702: [9, 33, 255, 255, 255],\n 703: [10, 33, 255, 255, 255],\n 704: [11, 33, 255, 255, 255],\n 705: [12, 33, 255, 255, 255],\n 706: [13, 33, 255, 255, 255],\n 707: [14, 33, 255, 255, 255],\n 708: [15, 33, 255, 255, 255],\n 709: [16, 33, 255, 255, 255],\n 710: [17, 33, 255, 255, 255],\n 711: [18, 33, 255, 255, 255],\n 712: [19, 33, 255, 255, 255],\n 713: [20, 33, 255, 255, 255],\n 714: [0, 34, 255, 255, 255],\n 715: [1, 34, 255, 255, 255],\n 716: [2, 34, 255, 255, 255],\n 717: [3, 34, 255, 255, 255],\n 718: [4, 34, 255, 255, 255],\n 719: [5, 34, 255, 255, 255],\n 720: [6, 34, 255, 255, 255],\n 721: [7, 34, 255, 255, 255],\n 722: [8, 34, 255, 255, 255],\n 723: [9, 34, 255, 255, 255],\n 724: [10, 34, 255, 255, 255],\n 725: [11, 34, 255, 255, 255],\n 726: [12, 34, 255, 255, 255],\n 727: [13, 34, 255, 255, 255],\n 728: [14, 34, 255, 255, 255],\n 729: [15, 34, 255, 255, 255],\n 730: [16, 34, 255, 255, 255],\n 731: [17, 34, 255, 255, 255],\n 732: [18, 34, 255, 255, 255],\n 733: [19, 34, 255, 255, 255],\n 734: [20, 34, 255, 255, 255],\n 735: [0, 35, 255, 255, 255],\n 736: [1, 35, 255, 255, 255],\n 737: [2, 35, 255, 255, 255],\n 738: [3, 35, 255, 255, 255],\n 739: [4, 35, 255, 255, 255],\n 740: [5, 35, 255, 255, 255],\n 741: [6, 35, 255, 255, 255],\n 742: [7, 35, 255, 255, 255],\n 743: [8, 35, 255, 255, 255],\n 744: [9, 35, 255, 255, 255],\n 745: [10, 35, 255, 255, 255],\n 746: [11, 35, 255, 255, 255],\n 747: [12, 35, 255, 255, 255],\n 748: [13, 35, 255, 255, 255],\n 749: [14, 35, 255, 255, 255],\n 750: [15, 35, 255, 255, 255],\n 751: [16, 35, 255, 255, 255],\n 752: [17, 35, 255, 255, 255],\n 753: [18, 35, 255, 255, 255],\n 754: [19, 35, 255, 255, 255],\n 755: [20, 35, 255, 255, 255]}"
     },
     "execution_count": 386,
     "metadata": {},
     "output_type": "execute_result"
    }
   ],
   "source": [
    "points_dic"
   ],
   "metadata": {
    "collapsed": false,
    "pycharm": {
     "name": "#%%\n"
    }
   }
  },
  {
   "cell_type": "code",
   "execution_count": 399,
   "outputs": [],
   "source": [
    "def get_key (dict, value):\n",
    "    for k, v in dict.items():\n",
    "        # print((v==value))\n",
    "        if (v[:2]==value).sum()==2:\n",
    "            return k"
   ],
   "metadata": {
    "collapsed": false,
    "pycharm": {
     "name": "#%%\n"
    }
   }
  },
  {
   "cell_type": "code",
   "execution_count": 496,
   "outputs": [],
   "source": [
    "mesh = []\n",
    "mesh_dic = {}\n",
    "for tri in mesh_tri:\n",
    "    ver = tri.get_xy()\n",
    "    # print(ver)\n",
    "    p = []\n",
    "    for i,v in enumerate(ver):\n",
    "        if i == 3:\n",
    "            break\n",
    "        # index =\n",
    "        y,x = v\n",
    "        # print(x,y)\n",
    "        r,g,b= img[int(x),int(y),:]\n",
    "        r -=127.5\n",
    "        g -= 127.5\n",
    "        b -=127.5\n",
    "        r /=127.5\n",
    "        g /=127.5\n",
    "        b /=127.5\n",
    "        p.append([x,y,r,g,b])\n",
    "        # if [x,y] == points_dic[0]:\n",
    "        # print(index)\n",
    "        mesh_dic[index] = p\n",
    "    # print(p,q,r)\n",
    "    mesh.append(p)"
   ],
   "metadata": {
    "collapsed": false,
    "pycharm": {
     "name": "#%%\n"
    }
   }
  },
  {
   "cell_type": "code",
   "execution_count": 497,
   "outputs": [],
   "source": [
    "mesh = np.array(mesh)"
   ],
   "metadata": {
    "collapsed": false,
    "pycharm": {
     "name": "#%%\n"
    }
   }
  },
  {
   "cell_type": "code",
   "execution_count": 498,
   "outputs": [
    {
     "data": {
      "text/plain": "{1511: [[20.0, 35.0, 1.0, 1.0, 1.0],\n  [21.0, 35.0, 1.0, 1.0, 1.0],\n  [21.0, 36.0, 1.0, 1.0, 1.0]]}"
     },
     "execution_count": 498,
     "metadata": {},
     "output_type": "execute_result"
    }
   ],
   "source": [
    "mesh_dic"
   ],
   "metadata": {
    "collapsed": false,
    "pycharm": {
     "name": "#%%\n"
    }
   }
  },
  {
   "cell_type": "code",
   "execution_count": 499,
   "outputs": [
    {
     "data": {
      "text/plain": "array([[0., 0., 1., 1., 1.],\n       [1., 0., 1., 1., 1.],\n       [1., 1., 1., 1., 1.]])"
     },
     "execution_count": 499,
     "metadata": {},
     "output_type": "execute_result"
    }
   ],
   "source": [
    "mesh[1]"
   ],
   "metadata": {
    "collapsed": false,
    "pycharm": {
     "name": "#%%\n"
    }
   }
  },
  {
   "cell_type": "code",
   "execution_count": 500,
   "outputs": [
    {
     "data": {
      "text/plain": "array([[1., 0., 1., 1., 1.],\n       [1., 1., 1., 1., 1.],\n       [2., 1., 1., 1., 1.]])"
     },
     "execution_count": 500,
     "metadata": {},
     "output_type": "execute_result"
    }
   ],
   "source": [
    "mesh[2]"
   ],
   "metadata": {
    "collapsed": false,
    "pycharm": {
     "name": "#%%\n"
    }
   }
  },
  {
   "cell_type": "code",
   "execution_count": 501,
   "outputs": [],
   "source": [
    "faces = (((mesh - [5,5,-1,-1,-1,])==0).sum(-1)==2).sum(-1)\n",
    "faces_index = np.where(faces == 1)"
   ],
   "metadata": {
    "collapsed": false,
    "pycharm": {
     "name": "#%%\n"
    }
   }
  },
  {
   "cell_type": "code",
   "execution_count": 502,
   "outputs": [],
   "source": [
    "As, bs, cs= {},{},{}"
   ],
   "metadata": {
    "collapsed": false,
    "pycharm": {
     "name": "#%%\n"
    }
   }
  },
  {
   "cell_type": "code",
   "execution_count": 503,
   "outputs": [],
   "source": [
    "import math\n",
    "# init A b c for all points\n",
    "for i,point in enumerate(points):\n",
    "    x,y = point\n",
    "    # if i == 20:\n",
    "    #     break\n",
    "    faces = (((mesh - [x,y,-1,-1,-1,])==0).sum(-1)==2).sum(-1)\n",
    "    faces_index = np.where(faces == 1)[0]\n",
    "    A,b,c = np.zeros([5,5]),np.zeros([5,1]),0\n",
    "    for index in faces_index:\n",
    "        face = mesh[index]\n",
    "        p,q,r = face\n",
    "        p.shape,q.shape,r.shape = (1,5),(1,5),(1,5)\n",
    "        p = np.transpose(p)\n",
    "        q = np.transpose(q)\n",
    "        r = np.transpose(r)\n",
    "        e1 = (q-p)/np.linalg.norm(q-p)\n",
    "        e2 = (r-p- ((e1*(r-p)).sum())*e1)/np.linalg.norm(r-p- ((e1*(r-p)).sum())*e1)\n",
    "        A += np.identity(5) - e1.dot(np.transpose(e2)) - e2.dot(np.transpose(e2))\n",
    "        b += (p*e1).sum()*(e1) + (p*e2).sum()*(e2) - p\n",
    "    As[i] = A\n",
    "    bs[i] = b\n",
    "    cs[i] = c"
   ],
   "metadata": {
    "collapsed": false,
    "pycharm": {
     "name": "#%%\n"
    }
   }
  },
  {
   "cell_type": "code",
   "execution_count": 504,
   "outputs": [
    {
     "data": {
      "text/plain": "array([[1],\n       [2],\n       [3]])"
     },
     "execution_count": 504,
     "metadata": {},
     "output_type": "execute_result"
    }
   ],
   "source": [
    "t = np.array([1,2,3])\n",
    "t.shape=(1,3)\n",
    "np.transpose(t)"
   ],
   "metadata": {
    "collapsed": false,
    "pycharm": {
     "name": "#%%\n"
    }
   }
  },
  {
   "cell_type": "code",
   "execution_count": 505,
   "outputs": [
    {
     "data": {
      "text/plain": "(2325, 2, 2)"
     },
     "execution_count": 505,
     "metadata": {},
     "output_type": "execute_result"
    }
   ],
   "source": [
    "edges = []\n",
    "for tri in mesh_tri:\n",
    "    ver = tri.get_xy()\n",
    "    for i,v in enumerate(ver):\n",
    "        if i == 3:\n",
    "            break\n",
    "        edges.append([ver[i],ver[i+1]])\n",
    "edges = np.array(edges)\n",
    "edges = np.unique(edges,axis= 0)\n",
    "edges.shape"
   ],
   "metadata": {
    "collapsed": false,
    "pycharm": {
     "name": "#%%\n"
    }
   }
  },
  {
   "cell_type": "code",
   "execution_count": 506,
   "outputs": [],
   "source": [
    "def calculate_D(v,A,b,c):\n",
    "    v = np.array(v)\n",
    "    v.shape = (1,5)\n",
    "    v = np.transpose(v)\n",
    "    print(v)\n",
    "    print(A)\n",
    "    print(b)\n",
    "    print(c)\n",
    "    print(np.transpose(v).dot(A).dot(v))\n",
    "    print(np.transpose(b).dot(v))\n",
    "    return np.transpose(v).dot(A).dot(v) + 2 * np.transpose(b).dot(v) + c"
   ],
   "metadata": {
    "collapsed": false,
    "pycharm": {
     "name": "#%%\n"
    }
   }
  },
  {
   "cell_type": "code",
   "execution_count": 507,
   "outputs": [
    {
     "name": "stdout",
     "output_type": "stream",
     "text": [
      "[[  0]\n",
      " [  0]\n",
      " [255]\n",
      " [255]\n",
      " [255]]\n",
      "[[ 2. -2.  0.  0.  0.]\n",
      " [-3.  3.  0.  0.  0.]\n",
      " [ 0.  0.  5.  0.  0.]\n",
      " [ 0.  0.  0.  5.  0.]\n",
      " [ 0.  0.  0.  0.  5.]]\n",
      "[[ 0.]\n",
      " [ 0.]\n",
      " [-5.]\n",
      " [-5.]\n",
      " [-5.]]\n",
      "0\n",
      "[[975375.]]\n",
      "[[-3825.]]\n",
      "[[  0]\n",
      " [  1]\n",
      " [255]\n",
      " [255]\n",
      " [255]]\n",
      "[[ 2. -2.  0.  0.  0.]\n",
      " [-3.  3.  0.  0.  0.]\n",
      " [ 0.  0.  5.  0.  0.]\n",
      " [ 0.  0.  0.  5.  0.]\n",
      " [ 0.  0.  0.  0.  5.]]\n",
      "[[ 0.]\n",
      " [ 0.]\n",
      " [-5.]\n",
      " [-5.]\n",
      " [-5.]]\n",
      "0\n",
      "[[975378.]]\n",
      "[[-3825.]]\n",
      "[[  3.5]\n",
      " [  0. ]\n",
      " [382.5]\n",
      " [382.5]\n",
      " [382.5]]\n",
      "[[ 2. -2.  0.  0.  0.]\n",
      " [-3.  3.  0.  0.  0.]\n",
      " [ 0.  0.  5.  0.  0.]\n",
      " [ 0.  0.  0.  5.  0.]\n",
      " [ 0.  0.  0.  0.  5.]]\n",
      "[[ 0.]\n",
      " [ 0.]\n",
      " [-5.]\n",
      " [-5.]\n",
      " [-5.]]\n",
      "0\n",
      "[[2194618.25]]\n",
      "[[-5737.5]]\n"
     ]
    }
   ],
   "source": [
    "for edge in edges:\n",
    "    v1,v2 = edge\n",
    "    v1_index = get_key(points_dic,v1)\n",
    "    v2_index = get_key(points_dic,v2)\n",
    "    A = As[v1_index] + As[v2_index]\n",
    "    b = bs[v1_index] + bs[v2_index]\n",
    "    c = cs[v1_index] + cs[v2_index]\n",
    "    # try:\n",
    "    #     Q = -np.transpose(b).dot(np.linalg.inv(A)).dot(b) + c\n",
    "    # except:\n",
    "    #     mid = (points_dic[v1_index]+points_dic[v2_index])/2\n",
    "    #     D1 = np.transpose(points_dic[v1_index]) * A * points_dic[v1_index] + 2 * np.transpose(b) * points_dic[v1_index] + c\n",
    "    #     D2 = np.transpose(points_dic[v2_index]) * A * points_dic[v2_index] + 2 * np.transpose(b) * points_dic[v2_index] + c\n",
    "    #     D3 = np.transpose(points_dic[mid]) * A * points_dic[mid] + 2 * np.transpose(b) * points_dic[mid] + c\n",
    "    #\n",
    "    mid = np.array(points_dic[2]) + np.array(points_dic[3])/2\n",
    "    D1 = calculate_D(points_dic[v1_index],A,b,c)\n",
    "    # break\n",
    "    D2 = calculate_D(points_dic[v2_index],A,b,c)\n",
    "    D3 = calculate_D(mid,A,b,c)\n",
    "\n",
    "    # print(Q)\n",
    "    break"
   ],
   "metadata": {
    "collapsed": false,
    "pycharm": {
     "name": "#%%\n"
    }
   }
  },
  {
   "cell_type": "code",
   "execution_count": 507,
   "outputs": [],
   "source": [],
   "metadata": {
    "collapsed": false,
    "pycharm": {
     "name": "#%%\n"
    }
   }
  },
  {
   "cell_type": "code",
   "execution_count": 508,
   "outputs": [
    {
     "ename": "ValueError",
     "evalue": "operands could not be broadcast together with shapes (2,) (5,5) ",
     "output_type": "error",
     "traceback": [
      "\u001B[1;31m---------------------------------------------------------------------------\u001B[0m",
      "\u001B[1;31mValueError\u001B[0m                                Traceback (most recent call last)",
      "\u001B[1;32m<ipython-input-508-246f537463f0>\u001B[0m in \u001B[0;36m<module>\u001B[1;34m\u001B[0m\n\u001B[0;32m      2\u001B[0m \u001B[0mA\u001B[0m \u001B[1;33m=\u001B[0m \u001B[0mAs\u001B[0m\u001B[1;33m[\u001B[0m\u001B[1;36m15\u001B[0m\u001B[1;33m]\u001B[0m \u001B[1;33m+\u001B[0m \u001B[0mAs\u001B[0m\u001B[1;33m[\u001B[0m\u001B[1;36m16\u001B[0m\u001B[1;33m]\u001B[0m\u001B[1;33m\u001B[0m\u001B[1;33m\u001B[0m\u001B[0m\n\u001B[0;32m      3\u001B[0m \u001B[0mmid\u001B[0m \u001B[1;33m=\u001B[0m \u001B[1;33m(\u001B[0m\u001B[0mv1\u001B[0m\u001B[1;33m+\u001B[0m\u001B[0mv2\u001B[0m\u001B[1;33m)\u001B[0m\u001B[1;33m/\u001B[0m\u001B[1;36m2\u001B[0m\u001B[1;33m\u001B[0m\u001B[1;33m\u001B[0m\u001B[0m\n\u001B[1;32m----> 4\u001B[1;33m \u001B[0mD1\u001B[0m \u001B[1;33m=\u001B[0m \u001B[0mnp\u001B[0m\u001B[1;33m.\u001B[0m\u001B[0mtranspose\u001B[0m\u001B[1;33m(\u001B[0m\u001B[0mv1\u001B[0m\u001B[1;33m)\u001B[0m \u001B[1;33m*\u001B[0m \u001B[0mA\u001B[0m \u001B[1;33m*\u001B[0m \u001B[0mv1\u001B[0m \u001B[1;33m+\u001B[0m \u001B[1;36m2\u001B[0m \u001B[1;33m*\u001B[0m \u001B[0mnp\u001B[0m\u001B[1;33m.\u001B[0m\u001B[0mtranspose\u001B[0m\u001B[1;33m(\u001B[0m\u001B[0mb\u001B[0m\u001B[1;33m)\u001B[0m \u001B[1;33m*\u001B[0m \u001B[0mv1\u001B[0m \u001B[1;33m+\u001B[0m \u001B[0mc\u001B[0m\u001B[1;33m\u001B[0m\u001B[1;33m\u001B[0m\u001B[0m\n\u001B[0m\u001B[0;32m      5\u001B[0m \u001B[0mD2\u001B[0m \u001B[1;33m=\u001B[0m \u001B[0mnp\u001B[0m\u001B[1;33m.\u001B[0m\u001B[0mtranspose\u001B[0m\u001B[1;33m(\u001B[0m\u001B[0mv2\u001B[0m\u001B[1;33m)\u001B[0m \u001B[1;33m*\u001B[0m \u001B[0mA\u001B[0m \u001B[1;33m*\u001B[0m \u001B[0mv2\u001B[0m \u001B[1;33m+\u001B[0m \u001B[1;36m2\u001B[0m \u001B[1;33m*\u001B[0m \u001B[0mnp\u001B[0m\u001B[1;33m.\u001B[0m\u001B[0mtranspose\u001B[0m\u001B[1;33m(\u001B[0m\u001B[0mb\u001B[0m\u001B[1;33m)\u001B[0m \u001B[1;33m*\u001B[0m \u001B[0mv2\u001B[0m \u001B[1;33m+\u001B[0m \u001B[0mc\u001B[0m\u001B[1;33m\u001B[0m\u001B[1;33m\u001B[0m\u001B[0m\n\u001B[0;32m      6\u001B[0m \u001B[0mD3\u001B[0m \u001B[1;33m=\u001B[0m \u001B[0mnp\u001B[0m\u001B[1;33m.\u001B[0m\u001B[0mtranspose\u001B[0m\u001B[1;33m(\u001B[0m\u001B[0mmid\u001B[0m\u001B[1;33m)\u001B[0m \u001B[1;33m*\u001B[0m \u001B[0mA\u001B[0m \u001B[1;33m*\u001B[0m \u001B[0mmid\u001B[0m \u001B[1;33m+\u001B[0m \u001B[1;36m2\u001B[0m \u001B[1;33m*\u001B[0m \u001B[0mnp\u001B[0m\u001B[1;33m.\u001B[0m\u001B[0mtranspose\u001B[0m\u001B[1;33m(\u001B[0m\u001B[0mb\u001B[0m\u001B[1;33m)\u001B[0m \u001B[1;33m*\u001B[0m \u001B[0mmid\u001B[0m \u001B[1;33m+\u001B[0m \u001B[0mc\u001B[0m\u001B[1;33m\u001B[0m\u001B[1;33m\u001B[0m\u001B[0m\n",
      "\u001B[1;31mValueError\u001B[0m: operands could not be broadcast together with shapes (2,) (5,5) "
     ]
    }
   ],
   "source": [
    "v1,v2 = edges[0]\n",
    "A = As[15] + As[16]\n",
    "mid = (v1+v2)/2\n",
    "D1 = np.transpose(v1) * A * v1 + 2 * np.transpose(b) * v1 + c\n",
    "D2 = np.transpose(v2) * A * v2 + 2 * np.transpose(b) * v2 + c\n",
    "D3 = np.transpose(mid) * A * mid + 2 * np.transpose(b) * mid + c\n",
    "print(D1,D2,D3)\n",
    "# np.linalg.inv(A)"
   ],
   "metadata": {
    "collapsed": false,
    "pycharm": {
     "name": "#%%\n"
    }
   }
  },
  {
   "cell_type": "code",
   "execution_count": 509,
   "outputs": [
    {
     "data": {
      "text/plain": "array([[967725.]])"
     },
     "execution_count": 509,
     "metadata": {},
     "output_type": "execute_result"
    }
   ],
   "source": [
    "D1"
   ],
   "metadata": {
    "collapsed": false,
    "pycharm": {
     "name": "#%%\n"
    }
   }
  },
  {
   "cell_type": "code",
   "execution_count": 510,
   "outputs": [
    {
     "data": {
      "text/plain": "array([[967728.]])"
     },
     "execution_count": 510,
     "metadata": {},
     "output_type": "execute_result"
    }
   ],
   "source": [
    "D2"
   ],
   "metadata": {
    "collapsed": false,
    "pycharm": {
     "name": "#%%\n"
    }
   }
  },
  {
   "cell_type": "code",
   "execution_count": 511,
   "outputs": [
    {
     "data": {
      "text/plain": "array([[2183143.25]])"
     },
     "execution_count": 511,
     "metadata": {},
     "output_type": "execute_result"
    }
   ],
   "source": [
    "D3"
   ],
   "metadata": {
    "collapsed": false,
    "pycharm": {
     "name": "#%%\n"
    }
   }
  },
  {
   "cell_type": "code",
   "execution_count": null,
   "outputs": [],
   "source": [],
   "metadata": {
    "collapsed": false,
    "pycharm": {
     "name": "#%%\n"
    }
   }
  }
 ],
 "metadata": {
  "kernelspec": {
   "display_name": "Python 3",
   "language": "python",
   "name": "python3"
  },
  "language_info": {
   "codemirror_mode": {
    "name": "ipython",
    "version": 2
   },
   "file_extension": ".py",
   "mimetype": "text/x-python",
   "name": "python",
   "nbconvert_exporter": "python",
   "pygments_lexer": "ipython2",
   "version": "2.7.6"
  }
 },
 "nbformat": 4,
 "nbformat_minor": 0
}